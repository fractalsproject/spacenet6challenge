{
  "nbformat": 4,
  "nbformat_minor": 0,
  "metadata": {
    "colab": {
      "name": "SpaceNet6Challenge_Baseline.ipynb",
      "provenance": [],
      "collapsed_sections": [],
      "machine_shape": "hm",
      "authorship_tag": "ABX9TyMq9feHmiLfX7zzW3gPMjWa",
      "include_colab_link": true
    },
    "kernelspec": {
      "name": "python3",
      "display_name": "Python 3"
    },
    "accelerator": "GPU"
  },
  "cells": [
    {
      "cell_type": "markdown",
      "metadata": {
        "id": "view-in-github",
        "colab_type": "text"
      },
      "source": [
        "<a href=\"https://colab.research.google.com/github/fractalsproject/spacenet6challenge/blob/master/notebooks/SpaceNet6Challenge_Baseline.ipynb\" target=\"_parent\"><img src=\"https://colab.research.google.com/assets/colab-badge.svg\" alt=\"Open In Colab\"/></a>"
      ]
    },
    {
      "cell_type": "code",
      "metadata": {
        "id": "QuKrbBroRrCb",
        "colab_type": "code",
        "colab": {}
      },
      "source": [
        "# Training config\n",
        "\n",
        "# If trying to resume a training session, this must be the name of the dated directory\n",
        "resume = None\n",
        "\n",
        "# Set to True if you are debugging Solaris at the backend\n",
        "reinstall_solaris = True\n"
      ],
      "execution_count": 0,
      "outputs": []
    },
    {
      "cell_type": "code",
      "metadata": {
        "id": "XVCZ1zisFRzZ",
        "colab_type": "code",
        "outputId": "fb46c1b3-64fe-4de6-db53-cb516cafdb46",
        "colab": {
          "base_uri": "https://localhost:8080/",
          "height": 428
        }
      },
      "source": [
        "# Clone the spacenet6challenge project\n",
        "!rm -r spacenet6challenge\n",
        "!if [ ! -d \"spacenet6challenge\" ]; then git clone --recursive \"https://github.com/fractalsproject/spacenet6challenge.git\" ; else echo \"spacenet6challenge directory already exists\"; fi"
      ],
      "execution_count": 2,
      "outputs": [
        {
          "output_type": "stream",
          "text": [
            "Cloning into 'spacenet6challenge'...\n",
            "remote: Enumerating objects: 315, done.\u001b[K\n",
            "remote: Counting objects: 100% (315/315), done.\u001b[K\n",
            "remote: Compressing objects: 100% (230/230), done.\u001b[K\n",
            "remote: Total 315 (delta 130), reused 246 (delta 67), pack-reused 0\u001b[K\n",
            "Receiving objects: 100% (315/315), 66.54 KiB | 1002.00 KiB/s, done.\n",
            "Resolving deltas: 100% (130/130), done.\n",
            "Submodule 'CosmiQ_SN6_Baseline' (https://github.com/CosmiQ/CosmiQ_SN6_Baseline/) registered for path 'CosmiQ_SN6_Baseline'\n",
            "Submodule 'solaris' (https://github.com/cosmiq/solaris.git) registered for path 'solaris'\n",
            "Cloning into '/content/spacenet6challenge/CosmiQ_SN6_Baseline'...\n",
            "remote: Enumerating objects: 323, done.        \n",
            "remote: Total 323 (delta 0), reused 0 (delta 0), pack-reused 323        \n",
            "Receiving objects: 100% (323/323), 81.24 MiB | 28.92 MiB/s, done.\n",
            "Resolving deltas: 100% (187/187), done.\n",
            "Cloning into '/content/spacenet6challenge/solaris'...\n",
            "remote: Enumerating objects: 106, done.        \n",
            "remote: Counting objects: 100% (106/106), done.        \n",
            "remote: Compressing objects: 100% (76/76), done.        \n",
            "remote: Total 3920 (delta 49), reused 61 (delta 29), pack-reused 3814        \n",
            "Receiving objects: 100% (3920/3920), 21.87 MiB | 15.59 MiB/s, done.\n",
            "Resolving deltas: 100% (2446/2446), done.\n",
            "Submodule path 'CosmiQ_SN6_Baseline': checked out 'afe2d88a9e0d41685f5d717a559024e86d2935c3'\n",
            "Submodule path 'solaris': checked out '1032f089c311c008a1a8fb297d8b46a991febcb1'\n"
          ],
          "name": "stdout"
        }
      ]
    },
    {
      "cell_type": "code",
      "metadata": {
        "id": "l8K270sGLj3E",
        "colab_type": "code",
        "outputId": "a6aacec7-1f27-4c1c-ee44-7e9db35710db",
        "colab": {
          "base_uri": "https://localhost:8080/",
          "height": 258
        }
      },
      "source": [
        "# Check if we need to do a full installation\n",
        "try:\n",
        "  import solaris\n",
        "  from solaris import utils\n",
        "  print(\"Found solaris package.  Assuming a previous installation worked.\")\n",
        "  solaris_ok = True\n",
        "except:\n",
        "  import sys\n",
        "  sys.path.append('/content/spacenet6challenge')\n",
        "  import spacenet6.colab.setup\n",
        "  spacenet6.colab.setup.baseline_prereqs(force=True)\n",
        "  solaris_ok = False"
      ],
      "execution_count": 3,
      "outputs": [
        {
          "output_type": "stream",
          "text": [
            "/usr/local/lib/python3.6/dist-packages/tensorflow/python/framework/dtypes.py:526: FutureWarning: Passing (type, 1) or '1type' as a synonym of type is deprecated; in a future version of numpy, it will be understood as (type, (1,)) / '(1,)type'.\n",
            "  _np_qint8 = np.dtype([(\"qint8\", np.int8, 1)])\n",
            "/usr/local/lib/python3.6/dist-packages/tensorflow/python/framework/dtypes.py:527: FutureWarning: Passing (type, 1) or '1type' as a synonym of type is deprecated; in a future version of numpy, it will be understood as (type, (1,)) / '(1,)type'.\n",
            "  _np_quint8 = np.dtype([(\"quint8\", np.uint8, 1)])\n",
            "/usr/local/lib/python3.6/dist-packages/tensorflow/python/framework/dtypes.py:528: FutureWarning: Passing (type, 1) or '1type' as a synonym of type is deprecated; in a future version of numpy, it will be understood as (type, (1,)) / '(1,)type'.\n",
            "  _np_qint16 = np.dtype([(\"qint16\", np.int16, 1)])\n",
            "/usr/local/lib/python3.6/dist-packages/tensorflow/python/framework/dtypes.py:529: FutureWarning: Passing (type, 1) or '1type' as a synonym of type is deprecated; in a future version of numpy, it will be understood as (type, (1,)) / '(1,)type'.\n",
            "  _np_quint16 = np.dtype([(\"quint16\", np.uint16, 1)])\n",
            "/usr/local/lib/python3.6/dist-packages/tensorflow/python/framework/dtypes.py:530: FutureWarning: Passing (type, 1) or '1type' as a synonym of type is deprecated; in a future version of numpy, it will be understood as (type, (1,)) / '(1,)type'.\n",
            "  _np_qint32 = np.dtype([(\"qint32\", np.int32, 1)])\n",
            "/usr/local/lib/python3.6/dist-packages/tensorflow/python/framework/dtypes.py:535: FutureWarning: Passing (type, 1) or '1type' as a synonym of type is deprecated; in a future version of numpy, it will be understood as (type, (1,)) / '(1,)type'.\n",
            "  np_resource = np.dtype([(\"resource\", np.ubyte, 1)])\n"
          ],
          "name": "stderr"
        },
        {
          "output_type": "stream",
          "text": [
            "Found solaris package.  Assuming a previous installation worked.\n"
          ],
          "name": "stdout"
        }
      ]
    },
    {
      "cell_type": "code",
      "metadata": {
        "id": "QplMAtPq7FnK",
        "colab_type": "code",
        "colab": {
          "base_uri": "https://localhost:8080/",
          "height": 1000
        },
        "outputId": "d6aaa404-d3f2-486b-d50a-bce0bec3124f"
      },
      "source": [
        "# Useful for print debugging solaris\n",
        "if reinstall_solaris:\n",
        "  !pip uninstall solaris\n",
        "  !cd /content/spacenet6challenge/solaris && python setup.py clean\n",
        "  !cp /content/spacenet6challenge/solaris_setup_adj.py /content/spacenet6challenge/solaris/setup.py\n",
        "  !cd /content/spacenet6challenge/solaris && pip install .\n",
        "  import importlib\n",
        "  importlib.reload(solaris)\n",
        "  solaris_ok = True"
      ],
      "execution_count": 21,
      "outputs": [
        {
          "output_type": "stream",
          "text": [
            "Uninstalling solaris-0.2.2:\n",
            "  Would remove:\n",
            "    /usr/local/bin/geotransform_footprints\n",
            "    /usr/local/bin/make_graphs\n",
            "    /usr/local/bin/make_masks\n",
            "    /usr/local/bin/mask_to_polygons\n",
            "    /usr/local/bin/solaris_run_ml\n",
            "    /usr/local/bin/spacenet_eval\n",
            "    /usr/local/lib/python3.6/dist-packages/solaris-0.2.2.dist-info/*\n",
            "    /usr/local/lib/python3.6/dist-packages/solaris/*\n",
            "    /usr/local/lib/python3.6/dist-packages/tests/test_raster/*\n",
            "    /usr/local/lib/python3.6/dist-packages/tests/test_utils/*\n",
            "    /usr/local/lib/python3.6/dist-packages/tests/test_vector/*\n",
            "  Would not remove (might be manually added):\n",
            "    /usr/local/lib/python3.6/dist-packages/tests/test_utils/test_decorators.py\n",
            "    /usr/local/lib/python3.6/dist-packages/tests/test_utils/test_helpers.py\n",
            "    /usr/local/lib/python3.6/dist-packages/tests/test_utils/test_nan_warnings.py\n",
            "    /usr/local/lib/python3.6/dist-packages/tests/test_utils/test_timer.py\n",
            "    /usr/local/lib/python3.6/dist-packages/tests/test_utils/test_types.py\n",
            "    /usr/local/lib/python3.6/dist-packages/tests/test_utils/test_wrapper.py\n",
            "Proceed (y/n)? y\n",
            "  Successfully uninstalled solaris-0.2.2\n",
            "Collecting git+git://github.com/toblerity/shapely@master\n",
            "  Cloning git://github.com/toblerity/shapely (to revision master) to /tmp/pip-req-build-sgk9qez1\n",
            "  Running command git clone -q git://github.com/toblerity/shapely /tmp/pip-req-build-sgk9qez1\n",
            "Requirement already satisfied (use --upgrade to upgrade): Shapely==1.8.dev0 from git+git://github.com/toblerity/shapely@master in /usr/local/lib/python3.6/dist-packages\n",
            "Building wheels for collected packages: Shapely\n",
            "  Building wheel for Shapely (setup.py) ... \u001b[?25l\u001b[?25hdone\n",
            "  Created wheel for Shapely: filename=Shapely-1.8.dev0-cp36-cp36m-linux_x86_64.whl size=658439 sha256=1f5346b385be99e50f7115bf5a5e11047343029b5fa2b80ed1f81d293839b81c\n",
            "  Stored in directory: /tmp/pip-ephem-wheel-cache-bksk43xc/wheels/b5/64/12/74e189eed9f8e46360196a89a3c2572059194e4f48b2daca95\n",
            "Successfully built Shapely\n",
            "running clean\n",
            "Processing /content/spacenet6challenge/solaris\n",
            "Requirement already satisfied: pip>=19.0.3 in /usr/local/lib/python3.6/dist-packages (from solaris==0.2.2) (19.3.1)\n",
            "Requirement already satisfied: affine>=2.3.0 in /usr/local/lib/python3.6/dist-packages (from solaris==0.2.2) (2.3.0)\n",
            "Requirement already satisfied: albumentations==0.4.3 in /usr/local/lib/python3.6/dist-packages (from solaris==0.2.2) (0.4.3)\n",
            "Requirement already satisfied: fiona>=1.7.13 in /usr/local/lib/python3.6/dist-packages (from solaris==0.2.2) (1.8.13.post1)\n",
            "Requirement already satisfied: geopandas>=0.7.0 in /usr/local/lib/python3.6/dist-packages (from solaris==0.2.2) (0.7.0)\n",
            "Requirement already satisfied: matplotlib>=3.1.2 in /usr/local/lib/python3.6/dist-packages (from solaris==0.2.2) (3.2.1)\n",
            "Requirement already satisfied: networkx>=2.4 in /usr/local/lib/python3.6/dist-packages (from solaris==0.2.2) (2.4)\n",
            "Requirement already satisfied: numpy>=1.17.3 in /usr/local/lib/python3.6/dist-packages (from solaris==0.2.2) (1.18.3)\n",
            "Requirement already satisfied: opencv-python>=4.1 in /usr/local/lib/python3.6/dist-packages (from solaris==0.2.2) (4.1.2.30)\n",
            "Requirement already satisfied: pandas>=0.25.3 in /usr/local/lib/python3.6/dist-packages (from solaris==0.2.2) (1.0.3)\n",
            "Requirement already satisfied: pyproj>=2.1 in /usr/local/lib/python3.6/dist-packages (from solaris==0.2.2) (2.6.0)\n",
            "Requirement already satisfied: torch>=1.3.1 in /usr/local/lib/python3.6/dist-packages (from solaris==0.2.2) (1.5.0+cu101)\n",
            "Requirement already satisfied: pyyaml==5.2 in /usr/local/lib/python3.6/dist-packages (from solaris==0.2.2) (5.2)\n",
            "Requirement already satisfied: rasterio>=1.0.23 in /usr/local/lib/python3.6/dist-packages (from solaris==0.2.2) (1.1.3)\n",
            "Requirement already satisfied: requests==2.22.0 in /usr/local/lib/python3.6/dist-packages (from solaris==0.2.2) (2.22.0)\n",
            "Requirement already satisfied: rtree>=0.9.3 in /usr/local/lib/python3.6/dist-packages (from solaris==0.2.2) (0.9.4)\n",
            "Requirement already satisfied: scikit-image>=0.16.2 in /usr/local/lib/python3.6/dist-packages (from solaris==0.2.2) (0.16.2)\n",
            "Requirement already satisfied: scipy>=1.3.2 in /usr/local/lib/python3.6/dist-packages (from solaris==0.2.2) (1.4.1)\n",
            "Requirement already satisfied: torchvision>=0.5.0 in /usr/local/lib/python3.6/dist-packages (from solaris==0.2.2) (0.6.0+cu101)\n",
            "Requirement already satisfied: tqdm>=4.40.0 in /usr/local/lib/python3.6/dist-packages (from solaris==0.2.2) (4.45.0)\n",
            "Requirement already satisfied: urllib3>=1.25.7 in /usr/local/lib/python3.6/dist-packages (from solaris==0.2.2) (1.25.9)\n",
            "Requirement already satisfied: tensorflow==1.13.1 in /usr/local/lib/python3.6/dist-packages (from solaris==0.2.2) (1.13.1)\n",
            "Requirement already satisfied: imgaug<0.2.7,>=0.2.5 in /usr/local/lib/python3.6/dist-packages (from albumentations==0.4.3->solaris==0.2.2) (0.2.6)\n",
            "Requirement already satisfied: click<8,>=4.0 in /usr/local/lib/python3.6/dist-packages (from fiona>=1.7.13->solaris==0.2.2) (7.1.2)\n",
            "Requirement already satisfied: six>=1.7 in /usr/local/lib/python3.6/dist-packages (from fiona>=1.7.13->solaris==0.2.2) (1.12.0)\n",
            "Requirement already satisfied: attrs>=17 in /usr/local/lib/python3.6/dist-packages (from fiona>=1.7.13->solaris==0.2.2) (19.3.0)\n",
            "Requirement already satisfied: munch in /usr/local/lib/python3.6/dist-packages (from fiona>=1.7.13->solaris==0.2.2) (2.5.0)\n",
            "Requirement already satisfied: cligj>=0.5 in /usr/local/lib/python3.6/dist-packages (from fiona>=1.7.13->solaris==0.2.2) (0.5.0)\n",
            "Requirement already satisfied: click-plugins>=1.0 in /usr/local/lib/python3.6/dist-packages (from fiona>=1.7.13->solaris==0.2.2) (1.1.1)\n",
            "Requirement already satisfied: shapely in /usr/local/lib/python3.6/dist-packages (from geopandas>=0.7.0->solaris==0.2.2) (1.8.dev0)\n",
            "Requirement already satisfied: kiwisolver>=1.0.1 in /usr/local/lib/python3.6/dist-packages (from matplotlib>=3.1.2->solaris==0.2.2) (1.2.0)\n",
            "Requirement already satisfied: python-dateutil>=2.1 in /usr/local/lib/python3.6/dist-packages (from matplotlib>=3.1.2->solaris==0.2.2) (2.8.1)\n",
            "Requirement already satisfied: pyparsing!=2.0.4,!=2.1.2,!=2.1.6,>=2.0.1 in /usr/local/lib/python3.6/dist-packages (from matplotlib>=3.1.2->solaris==0.2.2) (2.4.7)\n",
            "Requirement already satisfied: cycler>=0.10 in /usr/local/lib/python3.6/dist-packages (from matplotlib>=3.1.2->solaris==0.2.2) (0.10.0)\n",
            "Requirement already satisfied: decorator>=4.3.0 in /usr/local/lib/python3.6/dist-packages (from networkx>=2.4->solaris==0.2.2) (4.4.2)\n",
            "Requirement already satisfied: pytz>=2017.2 in /usr/local/lib/python3.6/dist-packages (from pandas>=0.25.3->solaris==0.2.2) (2018.9)\n",
            "Requirement already satisfied: future in /usr/local/lib/python3.6/dist-packages (from torch>=1.3.1->solaris==0.2.2) (0.16.0)\n",
            "Requirement already satisfied: snuggs>=1.4.1 in /usr/local/lib/python3.6/dist-packages (from rasterio>=1.0.23->solaris==0.2.2) (1.4.7)\n",
            "Requirement already satisfied: chardet<3.1.0,>=3.0.2 in /usr/local/lib/python3.6/dist-packages (from requests==2.22.0->solaris==0.2.2) (3.0.4)\n",
            "Requirement already satisfied: idna<2.9,>=2.5 in /usr/local/lib/python3.6/dist-packages (from requests==2.22.0->solaris==0.2.2) (2.8)\n",
            "Requirement already satisfied: certifi>=2017.4.17 in /usr/local/lib/python3.6/dist-packages (from requests==2.22.0->solaris==0.2.2) (2020.4.5.1)\n",
            "Requirement already satisfied: setuptools in /usr/local/lib/python3.6/dist-packages (from rtree>=0.9.3->solaris==0.2.2) (46.1.3)\n",
            "Requirement already satisfied: PyWavelets>=0.4.0 in /usr/local/lib/python3.6/dist-packages (from scikit-image>=0.16.2->solaris==0.2.2) (1.1.1)\n",
            "Requirement already satisfied: imageio>=2.3.0 in /usr/local/lib/python3.6/dist-packages (from scikit-image>=0.16.2->solaris==0.2.2) (2.4.1)\n",
            "Requirement already satisfied: pillow>=4.3.0 in /usr/local/lib/python3.6/dist-packages (from scikit-image>=0.16.2->solaris==0.2.2) (7.0.0)\n",
            "Requirement already satisfied: protobuf>=3.6.1 in /usr/local/lib/python3.6/dist-packages (from tensorflow==1.13.1->solaris==0.2.2) (3.10.0)\n",
            "Requirement already satisfied: absl-py>=0.1.6 in /usr/local/lib/python3.6/dist-packages (from tensorflow==1.13.1->solaris==0.2.2) (0.9.0)\n",
            "Requirement already satisfied: termcolor>=1.1.0 in /usr/local/lib/python3.6/dist-packages (from tensorflow==1.13.1->solaris==0.2.2) (1.1.0)\n",
            "Requirement already satisfied: grpcio>=1.8.6 in /usr/local/lib/python3.6/dist-packages (from tensorflow==1.13.1->solaris==0.2.2) (1.28.1)\n",
            "Requirement already satisfied: tensorflow-estimator<1.14.0rc0,>=1.13.0 in /usr/local/lib/python3.6/dist-packages (from tensorflow==1.13.1->solaris==0.2.2) (1.13.0)\n",
            "Requirement already satisfied: keras-applications>=1.0.6 in /usr/local/lib/python3.6/dist-packages (from tensorflow==1.13.1->solaris==0.2.2) (1.0.8)\n",
            "Requirement already satisfied: wheel>=0.26 in /usr/local/lib/python3.6/dist-packages (from tensorflow==1.13.1->solaris==0.2.2) (0.34.2)\n",
            "Requirement already satisfied: gast>=0.2.0 in /usr/local/lib/python3.6/dist-packages (from tensorflow==1.13.1->solaris==0.2.2) (0.3.3)\n",
            "Requirement already satisfied: keras-preprocessing>=1.0.5 in /usr/local/lib/python3.6/dist-packages (from tensorflow==1.13.1->solaris==0.2.2) (1.1.0)\n",
            "Requirement already satisfied: astor>=0.6.0 in /usr/local/lib/python3.6/dist-packages (from tensorflow==1.13.1->solaris==0.2.2) (0.8.1)\n",
            "Requirement already satisfied: tensorboard<1.14.0,>=1.13.0 in /usr/local/lib/python3.6/dist-packages (from tensorflow==1.13.1->solaris==0.2.2) (1.13.1)\n",
            "Requirement already satisfied: mock>=2.0.0 in /usr/local/lib/python3.6/dist-packages (from tensorflow-estimator<1.14.0rc0,>=1.13.0->tensorflow==1.13.1->solaris==0.2.2) (4.0.2)\n",
            "Requirement already satisfied: h5py in /usr/local/lib/python3.6/dist-packages (from keras-applications>=1.0.6->tensorflow==1.13.1->solaris==0.2.2) (2.10.0)\n",
            "Requirement already satisfied: markdown>=2.6.8 in /usr/local/lib/python3.6/dist-packages (from tensorboard<1.14.0,>=1.13.0->tensorflow==1.13.1->solaris==0.2.2) (3.2.1)\n",
            "Requirement already satisfied: werkzeug>=0.11.15 in /usr/local/lib/python3.6/dist-packages (from tensorboard<1.14.0,>=1.13.0->tensorflow==1.13.1->solaris==0.2.2) (1.0.1)\n",
            "Building wheels for collected packages: solaris\n",
            "  Building wheel for solaris (setup.py) ... \u001b[?25l\u001b[?25hdone\n",
            "  Created wheel for solaris: filename=solaris-0.2.2-cp36-none-any.whl size=14909559 sha256=020e84709c6a42738b32a913eb9fb3b056e1804f52d3a31f7ebf176a02759c3a\n",
            "  Stored in directory: /tmp/pip-ephem-wheel-cache-1m9igdge/wheels/04/a2/75/2a2d5df881c7731dd6ec79cd6b342e5db6a337348c4a5a98c0\n",
            "Successfully built solaris\n",
            "Installing collected packages: solaris\n",
            "Successfully installed solaris-0.2.2\n"
          ],
          "name": "stdout"
        }
      ]
    },
    {
      "cell_type": "code",
      "metadata": {
        "id": "-Y6XgdnI_bgE",
        "colab_type": "code",
        "colab": {}
      },
      "source": [
        "# TODO:  Why do we need to do this here...\n",
        "if not solaris_ok:\n",
        "  !cd /content/spacenet6challenge/solaris && pip install .\n",
        "  try:\n",
        "    from solaris import utils\n",
        "    print(\"Found solaris package.  Assuming installation worked.\")\n",
        "    solaris_ok = True\n",
        "  except:\n",
        "    raise Exception(\"You should restart the kernel and run the notebook again.\")"
      ],
      "execution_count": 0,
      "outputs": []
    },
    {
      "cell_type": "code",
      "metadata": {
        "id": "kUe1vQuqywVo",
        "colab_type": "code",
        "colab": {
          "base_uri": "https://localhost:8080/",
          "height": 85
        },
        "outputId": "e44d1660-5d55-4ad4-c5e8-89881526447d"
      },
      "source": [
        "# Check tensorflow \n",
        "import tensorflow\n",
        "print(\"tensorflow version=\",tensorflow.version.VERSION)\n",
        "if (tensorflow.version.VERSION!='1.13.1'):\n",
        "  raise Exception(\"You need to restart the kernel and resume from here.\")\n",
        "\n",
        "# Check torch \n",
        "import torch\n",
        "print( \"torch version=\", torch.version.__version__) \n",
        "if not torch.version.__version__.startswith(\"1.5\"):\n",
        "  raise Exception(\"You need restart the kernel and resume from here.\")\n",
        "if not torch.cuda.is_available():\n",
        "  raise Exception(\"Torch cuda is not available.\")\n",
        "else:\n",
        "  print(\"Torch cuda is available.\")\n",
        "\n",
        "# Check all installation packages are available\n",
        "try:\n",
        "  import solaris\n",
        "  from solaris import utils\n",
        "  import sys\n",
        "  !pip install geopandas>=0.7.0\n",
        "  import geopandas\n",
        "  sys.path.append('/content/spacenet6challenge/CosmiQ_SN6_Baseline')\n",
        "  import baseline\n",
        "  sys.path.append('/content/spacenet6challenge')\n",
        "  import baseline_wrap\n",
        "except:\n",
        "  raise Exception(\"Installation checks failed.\")\n",
        "\n",
        "print(\"Installation checks passed.\")"
      ],
      "execution_count": 22,
      "outputs": [
        {
          "output_type": "stream",
          "text": [
            "tensorflow version= 1.13.1\n",
            "torch version= 1.5.0+cu101\n",
            "Torch cuda is available.\n",
            "Installation checks passed.\n"
          ],
          "name": "stdout"
        }
      ]
    },
    {
      "cell_type": "code",
      "metadata": {
        "id": "bwEv9uuDDAVE",
        "colab_type": "code",
        "outputId": "70875745-a2b3-4129-9cdd-c331279877b0",
        "colab": {
          "base_uri": "https://localhost:8080/",
          "height": 479
        }
      },
      "source": [
        "# Mount GCP bucket data\n",
        "import spacenet6.colab.bucket\n",
        "spacenet6.colab.bucket.mount(\"spacenet_challenge_data\",force_new_mount=True)"
      ],
      "execution_count": 13,
      "outputs": [
        {
          "output_type": "stream",
          "text": [
            "Checking for jupyter/ipython environment...\n",
            "Passed.\n",
            "Checking for colab environment...\n",
            "Passed.\n",
            "Running command: \"fusermount -u mountOnColab\".  Please wait...\n",
            "OK.\n",
            "Running command: \"rmdir mountOnColab\".  Please wait...\n",
            "OK.\n",
            "Trying to authenticate GCP user...\n",
            "Running command: \"echo \"deb http://packages.cloud.google.com/apt gcsfuse-bionic main\" > /etc/apt/sources.list.d/gcsfuse.list\".  Please wait...\n",
            "OK.\n",
            "Running command: \"curl https://packages.cloud.google.com/apt/doc/apt-key.gpg | apt-key add - \".  Please wait...\n",
            "OK.\n",
            "Running command: \"apt -qq update\".  Please wait...\n",
            "OK.\n",
            "Running command: \"apt -qq install gcsfuse\".  Please wait...\n",
            "OK.\n",
            "Running command: \"mkdir mountOnColab\".  Please wait...\n",
            "OK.\n",
            "Running command: \"gcsfuse --implicit-dirs spacenet_challenge_data mountOnColab\".  Please wait...\n",
            "OK.\n",
            "Done. Getting folder contents...\n",
            "Running command: \"ls -als /content/mountOnColab\".  Please wait...\n",
            "\n",
            "Mount was successful.\n"
          ],
          "name": "stdout"
        },
        {
          "output_type": "execute_result",
          "data": {
            "text/plain": [
              "True"
            ]
          },
          "metadata": {
            "tags": []
          },
          "execution_count": 13
        }
      ]
    },
    {
      "cell_type": "code",
      "metadata": {
        "id": "t1SIGjSCSe3a",
        "colab_type": "code",
        "colab": {
          "base_uri": "https://localhost:8080/",
          "height": 54
        },
        "outputId": "da8d9d93-d824-40ae-84f2-d5640e584cd8"
      },
      "source": [
        "# Verify all the directories\n",
        "import os\n",
        "import datetime\n",
        "\n",
        "train_path = \"/content/mountOnColab/SAR/train/AOI_11_Rotterdam\"\n",
        "if not os.path.exists(train_path):\n",
        "  raise Exception(\"Could not find training data\")\n",
        "\n",
        "pretrain_path = '/content/mountOnColab/pretrain'\n",
        "if not os.path.exists(pretrain_path):\n",
        "  raise Exception('Could not find pretrain data')\n",
        "\n",
        "train_sessions_path = '/content/mountOnColab/train_sessions'\n",
        "\n",
        "# are we trying to resume a training session \n",
        "if resume: \n",
        "\n",
        "  # Get the last trained model and figure out where to resume...\n",
        "  print(\"Will try to resume training from trainining=>\", resume)\n",
        "  dpath = resume\n",
        "  outpath = '%s/%s' % ( train_sessions_path, dpath )\n",
        "  if not os.path.exists( outpath ):\n",
        "    raise Exception(\"Can't resume because %s does not exist.\" % outpath)\n",
        "  subdirs = os.listdir( os.path.join(outpath, \"weights\"))\n",
        "  print(\"listdir=\", subdirs)\n",
        "  epochs = sorted( [ int( subdir.split(\".\")[0] ) for subdir in subdirs if subdir.split(\".\")[0].isnumeric() ] )\n",
        "  print(\"all epochs=\", epochs)\n",
        "  resume_epoch = int(epochs[-1])\n",
        "  resume_weights = os.path.join(outpath,\"weights/%d.hdf5\" % resume_epoch )\n",
        "  raise Exception(\"Not finished.\")\n",
        "else:\n",
        "\n",
        "  # Create new dated directory for saved weights...\n",
        "  resume_epoch = None\n",
        "  resume_weights = None\n",
        "  dpath = str(datetime.datetime.now()).replace(\":\",\"_\").replace(\" \",\"_\")\n",
        "  outpath = '%s/%s' % ( train_sessions_path, dpath )\n",
        "\n",
        "os.makedirs(outpath, exist_ok=True)\n",
        "print(\"model weights directory=\", outpath)"
      ],
      "execution_count": 23,
      "outputs": [
        {
          "output_type": "stream",
          "text": [
            "model weights directory= /content/mountOnColab/train_sessions/2020-05-02_20_19_57.984671\n"
          ],
          "name": "stdout"
        }
      ]
    },
    {
      "cell_type": "code",
      "metadata": {
        "id": "063s1t6JkAgs",
        "colab_type": "code",
        "colab": {
          "base_uri": "https://localhost:8080/",
          "height": 955
        },
        "outputId": "452c9266-31ce-4aed-e1b3-d70675fd6d55"
      },
      "source": [
        "# Start the training session\n",
        "\n",
        "cmdargs = [\"--train\",\n",
        "                  \"--sardir\",\"%s/SAR-Intensity\" % train_path,\n",
        "                  \"--opticaldir\",\"%s/PS-RGB\" % train_path,\n",
        "                  \"--labeldir\",\"%s/geojson_buildings\" % train_path,\n",
        "                  \"--rotationfile\",\"%s/SummaryData/SAR_orientations.txt\" % train_path,\n",
        "                             \"--rotationfilelocal\",\"%s/SAR_orientations.txt\" % pretrain_path,\n",
        "                              \"--maskdir\", \"%s/masks\" % pretrain_path,\n",
        "                              \"--sarprocdir\", \"%s/sartrain\" % pretrain_path, \n",
        "                              \"--opticalprocdir\",\"%s/optical\" % pretrain_path,\n",
        "                              \"--traincsv\",\"%s/train.csv\" % pretrain_path,\n",
        "                              \"--validcsv\", \"%s/valid.csv\" % pretrain_path,\n",
        "                              \"--opticaltraincsv\", \"%s/opticaltrain.csv\" % pretrain_path,\n",
        "                              \"--opticalvalidcsv\", \"%s/opticalvalid.csv\" % pretrain_path,\n",
        "                              \"--testcsv\",\"%s/test.csv\" % pretrain_path,\n",
        "                              \"--yamlpath\",\"%s/sar.yaml\" % outpath,\n",
        "                              \"--opticalyamlpath\",\"%s/optical.yaml\" % outpath,\n",
        "                              \"--modeldir\",\"%s/weights\" % outpath,\n",
        "                              \"--testprocdir\",\"%s/sartest\" % outpath,\n",
        "                              \"--testoutdir\",\"%s/inference_continuous\" % outpath,\n",
        "                              \"--testbinarydir\",\"%s/inference_binary\" % outpath,\n",
        "                              \"--testvectordir\",\"%s/inference_vectors\" % outpath,\n",
        "                              \"--rotate\",\n",
        "                              \"--transferoptical\",\n",
        "                              \"--mintrainsize\",\"20\",\n",
        "                              \"--mintestsize\",\"80\"]\n",
        "args = baseline_wrap.parse_args(cmdargs)\n",
        "#print(args)\n",
        "#import importlib\n",
        "#importlib.reload(baseline_wrap)\n",
        "baseline_wrap.invoke(outpath, \"/content/mountOnColab/pretrain\", args)"
      ],
      "execution_count": 0,
      "outputs": [
        {
          "output_type": "stream",
          "text": [
            "For arg 'pretrain', checking if 'False' is a path...\n",
            "For arg 'train', checking if 'True' is a path...\n",
            "For arg 'pretest', checking if 'False' is a path...\n",
            "For arg 'test', checking if 'False' is a path...\n",
            "For arg 'eval', checking if 'False' is a path...\n",
            "For arg 'sardir', checking if '/content/mountOnColab/SAR/train/AOI_11_Rotterdam/SAR-Intensity' is a path...\n",
            "For arg 'opticaldir', checking if '/content/mountOnColab/SAR/train/AOI_11_Rotterdam/PS-RGB' is a path...\n",
            "For arg 'labeldir', checking if '/content/mountOnColab/SAR/train/AOI_11_Rotterdam/geojson_buildings' is a path...\n",
            "For arg 'rotationfile', checking if '/content/mountOnColab/SAR/train/AOI_11_Rotterdam/SummaryData/SAR_orientations.txt' is a path...\n",
            "Found file /content/mountOnColab/SAR/train/AOI_11_Rotterdam/SummaryData/SAR_orientations.txt\n",
            "For arg 'rotationfilelocal', checking if '/content/mountOnColab/pretrain/SAR_orientations.txt' is a path...\n",
            "Found file /content/mountOnColab/pretrain/SAR_orientations.txt\n",
            "For arg 'maskdir', checking if '/content/mountOnColab/pretrain/masks' is a path...\n",
            "For arg 'sarprocdir', checking if '/content/mountOnColab/pretrain/sartrain' is a path...\n",
            "For arg 'opticalprocdir', checking if '/content/mountOnColab/pretrain/optical' is a path...\n",
            "For arg 'traincsv', checking if '/content/mountOnColab/pretrain/train.csv' is a path...\n",
            "Found file /content/mountOnColab/pretrain/train.csv\n",
            "Copying file to /content/mountOnColab/train_sessions/2020-05-02_20_19_57.984671/train.csv and fixing paths\n",
            "For arg 'validcsv', checking if '/content/mountOnColab/pretrain/valid.csv' is a path...\n",
            "Found file /content/mountOnColab/pretrain/valid.csv\n",
            "Copying file to /content/mountOnColab/train_sessions/2020-05-02_20_19_57.984671/valid.csv and fixing paths\n",
            "For arg 'opticaltraincsv', checking if '/content/mountOnColab/pretrain/opticaltrain.csv' is a path...\n",
            "Found file /content/mountOnColab/pretrain/opticaltrain.csv\n",
            "Copying file to /content/mountOnColab/train_sessions/2020-05-02_20_19_57.984671/opticaltrain.csv and fixing paths\n",
            "For arg 'opticalvalidcsv', checking if '/content/mountOnColab/pretrain/opticalvalid.csv' is a path...\n",
            "Found file /content/mountOnColab/pretrain/opticalvalid.csv\n",
            "Copying file to /content/mountOnColab/train_sessions/2020-05-02_20_19_57.984671/opticalvalid.csv and fixing paths\n",
            "For arg 'testcsv', checking if '/content/mountOnColab/pretrain/test.csv' is a path...\n",
            "For arg 'yamlpath', checking if '/content/mountOnColab/train_sessions/2020-05-02_20_19_57.984671/sar.yaml' is a path...\n",
            "For arg 'opticalyamlpath', checking if '/content/mountOnColab/train_sessions/2020-05-02_20_19_57.984671/optical.yaml' is a path...\n",
            "For arg 'modeldir', checking if '/content/mountOnColab/train_sessions/2020-05-02_20_19_57.984671/weights' is a path...\n",
            "For arg 'testdir', checking if 'None' is a path...\n",
            "For arg 'testprocdir', checking if '/content/mountOnColab/train_sessions/2020-05-02_20_19_57.984671/sartest' is a path...\n",
            "For arg 'testoutdir', checking if '/content/mountOnColab/train_sessions/2020-05-02_20_19_57.984671/inference_continuous' is a path...\n",
            "For arg 'testbinarydir', checking if '/content/mountOnColab/train_sessions/2020-05-02_20_19_57.984671/inference_binary' is a path...\n",
            "For arg 'testvectordir', checking if '/content/mountOnColab/train_sessions/2020-05-02_20_19_57.984671/inference_vectors' is a path...\n",
            "For arg 'outputcsv', checking if 'None' is a path...\n",
            "For arg 'rotate', checking if 'True' is a path...\n",
            "For arg 'transferoptical', checking if 'True' is a path...\n",
            "For arg 'mintrainsize', checking if '20' is a path...\n",
            "For arg 'mintestsize', checking if '80' is a path...\n",
            "For arg 'uselastmodel', checking if 'False' is a path...\n",
            "For arg 'earlycutoff', checking if 'None' is a path...\n",
            "Fixup done:\n",
            "{'pretrain': False, 'train': True, 'pretest': False, 'test': False, 'eval': False, 'sardir': '/content/mountOnColab/SAR/train/AOI_11_Rotterdam/SAR-Intensity', 'opticaldir': '/content/mountOnColab/SAR/train/AOI_11_Rotterdam/PS-RGB', 'labeldir': '/content/mountOnColab/SAR/train/AOI_11_Rotterdam/geojson_buildings', 'rotationfile': '/content/mountOnColab/SAR/train/AOI_11_Rotterdam/SummaryData/SAR_orientations.txt', 'rotationfilelocal': '/content/mountOnColab/pretrain/SAR_orientations.txt', 'maskdir': '/content/mountOnColab/pretrain/masks', 'sarprocdir': '/content/mountOnColab/pretrain/sartrain', 'opticalprocdir': '/content/mountOnColab/pretrain/optical', 'traincsv': '/content/mountOnColab/train_sessions/2020-05-02_20_19_57.984671/train.csv', 'validcsv': '/content/mountOnColab/train_sessions/2020-05-02_20_19_57.984671/valid.csv', 'opticaltraincsv': '/content/mountOnColab/train_sessions/2020-05-02_20_19_57.984671/opticaltrain.csv', 'opticalvalidcsv': '/content/mountOnColab/train_sessions/2020-05-02_20_19_57.984671/opticalvalid.csv', 'testcsv': '/content/mountOnColab/pretrain/test.csv', 'yamlpath': '/content/mountOnColab/train_sessions/2020-05-02_20_19_57.984671/sar.yaml', 'opticalyamlpath': '/content/mountOnColab/train_sessions/2020-05-02_20_19_57.984671/optical.yaml', 'modeldir': '/content/mountOnColab/train_sessions/2020-05-02_20_19_57.984671/weights', 'testdir': None, 'testprocdir': '/content/mountOnColab/train_sessions/2020-05-02_20_19_57.984671/sartest', 'testoutdir': '/content/mountOnColab/train_sessions/2020-05-02_20_19_57.984671/inference_continuous', 'testbinarydir': '/content/mountOnColab/train_sessions/2020-05-02_20_19_57.984671/inference_binary', 'testvectordir': '/content/mountOnColab/train_sessions/2020-05-02_20_19_57.984671/inference_vectors', 'outputcsv': None, 'rotate': True, 'transferoptical': True, 'mintrainsize': '20', 'mintestsize': '80', 'uselastmodel': False, 'earlycutoff': None}\n",
            "Train\n",
            "Training on Optical: Start\n",
            "Beginning training epoch 0\n",
            "    loss at batch 0: 2.117980480194092\n",
            "    loss at batch 10: 1.4521985054016113\n",
            "    loss at batch 20: 1.0994950532913208\n",
            "    loss at batch 30: 0.9633895754814148\n",
            "    loss at batch 40: 0.935215950012207\n",
            "    loss at batch 50: 0.9316114187240601\n"
          ],
          "name": "stdout"
        }
      ]
    }
  ]
}